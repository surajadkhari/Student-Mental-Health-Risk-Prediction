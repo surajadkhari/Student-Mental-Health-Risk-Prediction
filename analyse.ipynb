{
 "cells": [
  {
   "cell_type": "code",
   "execution_count": null,
   "metadata": {},
   "outputs": [],
   "source": [
    "# OSMI Multi-Year Summary (2016 → 2022)\n",
    "# --------------------------------------\n",
    "# - Loads: survey_2014.csv ... survey_2021.csv, survey2022.csv\n",
    "# - Adds: year column\n",
    "# - Combines and prints summary:\n",
    "#     Years included, total rows, union column count\n",
    "# - Saves artifacts to ./osmi_multi_year/"
   ]
  },
  {
   "cell_type": "code",
   "execution_count": 1,
   "metadata": {},
   "outputs": [
    {
     "name": "stdout",
     "output_type": "stream",
     "text": [
      "Requirement already satisfied: pandas in /Users/sp/Desktop/leanr_py/.conda/lib/python3.11/site-packages (2.3.1)\n",
      "Requirement already satisfied: numpy>=1.23.2 in /Users/sp/Desktop/leanr_py/.conda/lib/python3.11/site-packages (from pandas) (2.3.2)\n",
      "Requirement already satisfied: python-dateutil>=2.8.2 in /Users/sp/Desktop/leanr_py/.conda/lib/python3.11/site-packages (from pandas) (2.9.0.post0)\n",
      "Requirement already satisfied: pytz>=2020.1 in /Users/sp/Desktop/leanr_py/.conda/lib/python3.11/site-packages (from pandas) (2025.2)\n",
      "Requirement already satisfied: tzdata>=2022.7 in /Users/sp/Desktop/leanr_py/.conda/lib/python3.11/site-packages (from pandas) (2025.2)\n",
      "Requirement already satisfied: six>=1.5 in /Users/sp/Desktop/leanr_py/.conda/lib/python3.11/site-packages (from python-dateutil>=2.8.2->pandas) (1.17.0)\n",
      "Note: you may need to restart the kernel to use updated packages.\n"
     ]
    }
   ],
   "source": [
    "%pip install pandas\n"
   ]
  },
  {
   "cell_type": "code",
   "execution_count": 2,
   "metadata": {},
   "outputs": [],
   "source": [
    "import pandas as pd\n",
    "from pathlib import Path"
   ]
  },
  {
   "cell_type": "code",
   "execution_count": 10,
   "metadata": {},
   "outputs": [],
   "source": [
    "# ---------- 1) File map ----------\n",
    "files = {\n",
    "    2016: \"survey_2014-16.csv\",\n",
    "    2017: \"survey_2017.csv\",\n",
    "    2018: \"survey_2018.csv\",\n",
    "    2019: \"survey_2019.csv\",\n",
    "    2020: \"survey_2020.csv\",\n",
    "    2021: \"survey_2021.csv\",\n",
    "    2022: \"survey_2022.csv\",   \n",
    "     2023: \"survey_2023.csv\",  \n",
    "    2024: \"survey_2024.csv\",  \n",
    "}\n",
    "\n",
    "datasetDIR = Path(\"./data\") "
   ]
  },
  {
   "cell_type": "code",
   "execution_count": 11,
   "metadata": {},
   "outputs": [
    {
     "data": {
      "text/html": [
       "<div>\n",
       "<style scoped>\n",
       "    .dataframe tbody tr th:only-of-type {\n",
       "        vertical-align: middle;\n",
       "    }\n",
       "\n",
       "    .dataframe tbody tr th {\n",
       "        vertical-align: top;\n",
       "    }\n",
       "\n",
       "    .dataframe thead th {\n",
       "        text-align: right;\n",
       "    }\n",
       "</style>\n",
       "<table border=\"1\" class=\"dataframe\">\n",
       "  <thead>\n",
       "    <tr style=\"text-align: right;\">\n",
       "      <th></th>\n",
       "      <th>year</th>\n",
       "      <th>rows</th>\n",
       "      <th>cols</th>\n",
       "      <th>status</th>\n",
       "    </tr>\n",
       "  </thead>\n",
       "  <tbody>\n",
       "    <tr>\n",
       "      <th>0</th>\n",
       "      <td>2016</td>\n",
       "      <td>1259</td>\n",
       "      <td>28</td>\n",
       "      <td>loaded</td>\n",
       "    </tr>\n",
       "    <tr>\n",
       "      <th>1</th>\n",
       "      <td>2017</td>\n",
       "      <td>756</td>\n",
       "      <td>124</td>\n",
       "      <td>loaded</td>\n",
       "    </tr>\n",
       "    <tr>\n",
       "      <th>2</th>\n",
       "      <td>2018</td>\n",
       "      <td>417</td>\n",
       "      <td>124</td>\n",
       "      <td>loaded</td>\n",
       "    </tr>\n",
       "    <tr>\n",
       "      <th>3</th>\n",
       "      <td>2019</td>\n",
       "      <td>352</td>\n",
       "      <td>83</td>\n",
       "      <td>loaded</td>\n",
       "    </tr>\n",
       "    <tr>\n",
       "      <th>4</th>\n",
       "      <td>2020</td>\n",
       "      <td>180</td>\n",
       "      <td>121</td>\n",
       "      <td>loaded</td>\n",
       "    </tr>\n",
       "    <tr>\n",
       "      <th>5</th>\n",
       "      <td>2021</td>\n",
       "      <td>131</td>\n",
       "      <td>125</td>\n",
       "      <td>loaded</td>\n",
       "    </tr>\n",
       "    <tr>\n",
       "      <th>6</th>\n",
       "      <td>2022</td>\n",
       "      <td>164</td>\n",
       "      <td>127</td>\n",
       "      <td>loaded</td>\n",
       "    </tr>\n",
       "    <tr>\n",
       "      <th>7</th>\n",
       "      <td>2023</td>\n",
       "      <td>6</td>\n",
       "      <td>127</td>\n",
       "      <td>loaded</td>\n",
       "    </tr>\n",
       "    <tr>\n",
       "      <th>8</th>\n",
       "      <td>2024</td>\n",
       "      <td>1433</td>\n",
       "      <td>64</td>\n",
       "      <td>loaded</td>\n",
       "    </tr>\n",
       "  </tbody>\n",
       "</table>\n",
       "</div>"
      ],
      "text/plain": [
       "   year  rows  cols  status\n",
       "0  2016  1259    28  loaded\n",
       "1  2017   756   124  loaded\n",
       "2  2018   417   124  loaded\n",
       "3  2019   352    83  loaded\n",
       "4  2020   180   121  loaded\n",
       "5  2021   131   125  loaded\n",
       "6  2022   164   127  loaded\n",
       "7  2023     6   127  loaded\n",
       "8  2024  1433    64  loaded"
      ]
     },
     "execution_count": 11,
     "metadata": {},
     "output_type": "execute_result"
    }
   ],
   "source": [
    "# ---------- 2) Load each year with a 'year' column ----------\n",
    "dfs = {}\n",
    "load_log = []\n",
    "for year, fname in files.items():\n",
    "    fpath = datasetDIR / fname\n",
    "    try:\n",
    "        df = pd.read_csv(fpath)\n",
    "        df[\"year\"] = year\n",
    "        dfs[year] = df\n",
    "        load_log.append({\"year\": year, \"rows\": df.shape[0], \"cols\": df.shape[1], \"status\": \"loaded\"})\n",
    "    except Exception as e:\n",
    "        load_log.append({\"year\": year, \"rows\": None, \"cols\": None, \"status\": f\"failed: {e}\"})\n",
    "\n",
    "load_log_df = pd.DataFrame(load_log).sort_values(\"year\")\n",
    "load_log_df"
   ]
  },
  {
   "cell_type": "code",
   "execution_count": null,
   "metadata": {},
   "outputs": [],
   "source": []
  }
 ],
 "metadata": {
  "kernelspec": {
   "display_name": "Python 3",
   "language": "python",
   "name": "python3"
  },
  "language_info": {
   "codemirror_mode": {
    "name": "ipython",
    "version": 3
   },
   "file_extension": ".py",
   "mimetype": "text/x-python",
   "name": "python",
   "nbconvert_exporter": "python",
   "pygments_lexer": "ipython3",
   "version": "3.11.13"
  }
 },
 "nbformat": 4,
 "nbformat_minor": 2
}
